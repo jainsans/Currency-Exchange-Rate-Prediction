{
 "cells": [
  {
   "cell_type": "markdown",
   "id": "338af543",
   "metadata": {},
   "source": [
    "## Currency exchange"
   ]
  },
  {
   "cell_type": "markdown",
   "id": "ce1f68e5",
   "metadata": {},
   "source": [
    "\n",
    "Currency Exchange is one of the biggest financial markets. It is a licensed business that allows customers to exchange one currency for another. Currently, 1 United States dollar is equivalent to 82.64 Indian rupees. Many factors affect exchange rates such as economic, political and even psychological factors."
   ]
  },
  {
   "cell_type": "markdown",
   "id": "b2f090a9",
   "metadata": {},
   "source": [
    "## Currency Exchange Rate Prediction"
   ]
  },
  {
   "cell_type": "markdown",
   "id": "edff5a25",
   "metadata": {},
   "source": [
    "The chnage in Exchnage Rates happen on a daily basis and it affects the income of a person, business and the economy of the country. Thus, predicting the currency exchange rates can help an individual as well as the country in many ways. \n",
    "\n",
    "Here I will be predicting the exchange rate with Machine learning using Python."
   ]
  },
  {
   "cell_type": "markdown",
   "id": "8ed3915e",
   "metadata": {},
   "source": [
    "## Data Extraction "
   ]
  },
  {
   "cell_type": "markdown",
   "id": "0f8b0d7c",
   "metadata": {},
   "source": [
    "The data that is used here has been taken from *Yahoo Finance*. \n",
    "Time period of the data: 1-11-2021 to 1-11-2022\n"
   ]
  },
  {
   "cell_type": "markdown",
   "id": "c370c552",
   "metadata": {},
   "source": [
    "### Importing Python Libraries"
   ]
  },
  {
   "cell_type": "code",
   "execution_count": 1,
   "id": "3f4074b6",
   "metadata": {},
   "outputs": [],
   "source": [
    "import numpy as np\n",
    "import pandas as pd\n",
    "import matplotlib.pyplot as plt\n",
    "import seaborn as sns\n",
    "from seaborn import regression"
   ]
  },
  {
   "cell_type": "code",
   "execution_count": 2,
   "id": "591fbb88",
   "metadata": {},
   "outputs": [
    {
     "name": "stdout",
     "output_type": "stream",
     "text": [
      "        Date       Open       High        Low      Close  Adj Close  Volume\n",
      "0 2021-11-01  74.928398  75.186302  74.810501  74.928299  74.928299       0\n",
      "1 2021-11-02  74.829903  74.909302  74.613297  74.829903  74.829903       0\n",
      "2 2021-11-03  74.712303  74.765503  74.407997  74.711998  74.711998       0\n",
      "3 2021-11-04  74.435501  74.554001  74.235001  74.435501  74.435501       0\n",
      "4 2021-11-05  74.478104  74.580498  74.050598  74.478104  74.478104       0\n"
     ]
    }
   ],
   "source": [
    "# reading the dataset \n",
    "\n",
    "sns.set()\n",
    "plt.style.use('seaborn-whitegrid')\n",
    "\n",
    "data = pd.read_excel(r\"C:\\Users\\hp\\Desktop\\Projects\\INR.xlsx\")\n",
    "print(data.head())"
   ]
  },
  {
   "cell_type": "markdown",
   "id": "87b66eb2",
   "metadata": {},
   "source": [
    "### Data Cleaning"
   ]
  },
  {
   "cell_type": "code",
   "execution_count": 3,
   "id": "aeef4f40",
   "metadata": {},
   "outputs": [
    {
     "data": {
      "text/plain": [
       "(262, 7)"
      ]
     },
     "execution_count": 3,
     "metadata": {},
     "output_type": "execute_result"
    }
   ],
   "source": [
    "#length of the data\n",
    "data.shape"
   ]
  },
  {
   "cell_type": "code",
   "execution_count": 4,
   "id": "7dedfaf4",
   "metadata": {},
   "outputs": [
    {
     "data": {
      "text/plain": [
       "<bound method DataFrame.info of           Date       Open       High        Low      Close  Adj Close  Volume\n",
       "0   2021-11-01  74.928398  75.186302  74.810501  74.928299  74.928299       0\n",
       "1   2021-11-02  74.829903  74.909302  74.613297  74.829903  74.829903       0\n",
       "2   2021-11-03  74.712303  74.765503  74.407997  74.711998  74.711998       0\n",
       "3   2021-11-04  74.435501  74.554001  74.235001  74.435501  74.435501       0\n",
       "4   2021-11-05  74.478104  74.580498  74.050598  74.478104  74.478104       0\n",
       "..         ...        ...        ...        ...        ...        ...     ...\n",
       "257 2022-10-26  82.445297  82.550598  81.924202  82.445297  82.445297       0\n",
       "258 2022-10-27  82.049599  82.706497  81.928299  82.049599  82.049599       0\n",
       "259 2022-10-28  82.442497  82.781303  82.278000  82.442497  82.442497       0\n",
       "260 2022-10-31  82.239197  83.123001  82.193001  82.239197  82.239197       0\n",
       "261 2022-11-01  82.745003  82.797997  82.583000  82.610001  82.610001       0\n",
       "\n",
       "[262 rows x 7 columns]>"
      ]
     },
     "execution_count": 4,
     "metadata": {},
     "output_type": "execute_result"
    }
   ],
   "source": [
    "#checking non-null values \n",
    "data.info"
   ]
  },
  {
   "cell_type": "code",
   "execution_count": 5,
   "id": "dcb3f814",
   "metadata": {},
   "outputs": [
    {
     "data": {
      "text/plain": [
       "0"
      ]
     },
     "execution_count": 5,
     "metadata": {},
     "output_type": "execute_result"
    }
   ],
   "source": [
    "#checking if columns have duplicate data\n",
    "data.duplicated().sum()"
   ]
  },
  {
   "cell_type": "markdown",
   "id": "bf6d99f3",
   "metadata": {},
   "source": [
    "### In this dataset, the values in the “Close” column are the target values that we need to predict."
   ]
  },
  {
   "cell_type": "code",
   "execution_count": 6,
   "id": "f9b5dfc9",
   "metadata": {},
   "outputs": [
    {
     "data": {
      "image/png": "[encoded data removed]",
      "text/plain": [
       "<Figure size 720x288 with 1 Axes>"
      ]
     },
     "metadata": {},
     "output_type": "display_data"
    }
   ],
   "source": [
    "plt.figure(figsize=(10, 4))\n",
    "plt.title(\"INR - USD Exchange Rate\")\n",
    "plt.xlabel(\"Date\")\n",
    "plt.ylabel(\"Close\")\n",
    "plt.plot(data[\"Close\"])\n",
    "plt.show()"
   ]
  },
  {
   "cell_type": "markdown",
   "id": "de15d0b1",
   "metadata": {},
   "source": [
    "### Preparing the dataset by storing the most relevant features in the variable x and storing the target column in the variable y"
   ]
  },
  {
   "cell_type": "code",
   "execution_count": 7,
   "id": "fc922600",
   "metadata": {},
   "outputs": [],
   "source": [
    "x = data[[\"Open\", \"High\", \"Low\"]]\n",
    "y = data[\"Close\"]\n",
    "x = x.to_numpy()\n",
    "y = y.to_numpy()\n",
    "y = y.reshape(-1, 1)"
   ]
  },
  {
   "cell_type": "markdown",
   "id": "0b980616",
   "metadata": {},
   "source": [
    "### Taking a look at the correlation between the features before training the currency exchange rate prediction model"
   ]
  },
  {
   "cell_type": "code",
   "execution_count": 8,
   "id": "786b0391",
   "metadata": {},
   "outputs": [
    {
     "name": "stdout",
     "output_type": "stream",
     "text": [
      "               Open      High       Low     Close  Adj Close  Volume\n",
      "Open       1.000000  0.997521  0.997875  0.999901   0.999901     NaN\n",
      "High       0.997521  1.000000  0.997420  0.997531   0.997531     NaN\n",
      "Low        0.997875  0.997420  1.000000  0.997912   0.997912     NaN\n",
      "Close      0.999901  0.997531  0.997912  1.000000   1.000000     NaN\n",
      "Adj Close  0.999901  0.997531  0.997912  1.000000   1.000000     NaN\n",
      "Volume          NaN       NaN       NaN       NaN        NaN     NaN\n"
     ]
    },
    {
     "data": {
      "image/png": "[encoded data removed]",
      "text/plain": [
       "<Figure size 432x288 with 2 Axes>"
      ]
     },
     "metadata": {},
     "output_type": "display_data"
    }
   ],
   "source": [
    "print(data.corr())\n",
    "sns.heatmap(data.corr())\n",
    "plt.show()"
   ]
  },
  {
   "cell_type": "markdown",
   "id": "a0d92585",
   "metadata": {},
   "source": [
    "### Splitting the data "
   ]
  },
  {
   "cell_type": "code",
   "execution_count": 9,
   "id": "ccbc53d8",
   "metadata": {},
   "outputs": [],
   "source": [
    "from sklearn.model_selection import train_test_split\n",
    "\n",
    "xtrain, xtest, ytrain, ytest = train_test_split(x, y, test_size=0.2, random_state=42) "
   ]
  },
  {
   "cell_type": "code",
   "execution_count": 10,
   "id": "02d8dddd",
   "metadata": {},
   "outputs": [],
   "source": [
    "# Train - Validation split\n",
    "\n",
    "xtrain, xvalid, ytrain, yvalid = train_test_split(xtrain, ytrain, test_size = 0.25)"
   ]
  },
  {
   "cell_type": "code",
   "execution_count": 11,
   "id": "b55dc231",
   "metadata": {},
   "outputs": [
    {
     "name": "stdout",
     "output_type": "stream",
     "text": [
      "156 53 53\n"
     ]
    }
   ],
   "source": [
    "print(len(xtrain),len(xvalid),len(xtest))"
   ]
  },
  {
   "cell_type": "markdown",
   "id": "45c502fe",
   "metadata": {},
   "source": [
    "### Training a currency exchange prediction model using the Decision Tree Regression model"
   ]
  },
  {
   "cell_type": "code",
   "execution_count": 42,
   "id": "ae43efc7",
   "metadata": {},
   "outputs": [
    {
     "data": {
      "text/plain": [
       "DecisionTreeRegressor(max_depth=3, min_samples_leaf=5)"
      ]
     },
     "execution_count": 42,
     "metadata": {},
     "output_type": "execute_result"
    }
   ],
   "source": [
    "from sklearn.tree import DecisionTreeRegressor\n",
    "model = DecisionTreeRegressor(max_depth = 3, min_samples_leaf = 5)\n",
    "model.fit(xtrain, ytrain)\n",
    "# ypred = model.predict(xtest)"
   ]
  },
  {
   "cell_type": "markdown",
   "id": "017d192b",
   "metadata": {},
   "source": [
    "### Prediction"
   ]
  },
  {
   "cell_type": "code",
   "execution_count": 43,
   "id": "727bb28c",
   "metadata": {},
   "outputs": [
    {
     "data": {
      "text/plain": [
       "array([79.52156573, 74.40055329, 82.51018713, 79.52156573, 82.51018713,\n",
       "       77.9836892 , 74.40055329, 74.40055329, 77.32516838, 75.13743993,\n",
       "       74.40055329, 74.40055329, 77.9836892 , 75.13743993, 74.40055329,\n",
       "       75.13743993, 76.10908103, 76.10908103, 76.10908103, 76.10908103,\n",
       "       75.13743993, 79.52156573, 77.32516838, 75.13743993, 76.10908103,\n",
       "       76.10908103, 77.32516838, 76.10908103, 76.10908103, 79.52156573,\n",
       "       77.9836892 , 74.40055329, 76.10908103, 75.13743993, 79.52156573,\n",
       "       77.32516838, 77.32516838, 79.52156573, 77.32516838, 82.51018713,\n",
       "       76.10908103, 74.40055329, 74.40055329, 75.13743993, 82.51018713,\n",
       "       76.10908103, 76.10908103, 74.40055329, 75.13743993, 79.52156573,\n",
       "       79.52156573, 82.51018713, 77.32516838])"
      ]
     },
     "execution_count": 43,
     "metadata": {},
     "output_type": "execute_result"
    }
   ],
   "source": [
    "ypred = model.predict(xvalid)\n",
    "ypred"
   ]
  },
  {
   "cell_type": "markdown",
   "id": "a9f62790",
   "metadata": {},
   "source": [
    "### Model Performance Checks "
   ]
  },
  {
   "cell_type": "code",
   "execution_count": 44,
   "id": "64a2bf14",
   "metadata": {},
   "outputs": [
    {
     "data": {
      "text/plain": [
       "2.6384583052361967"
      ]
     },
     "execution_count": 44,
     "metadata": {},
     "output_type": "execute_result"
    }
   ],
   "source": [
    "# Mean Absolute Error \n",
    "\n",
    "np.mean(np.abs(yvalid - ypred))"
   ]
  },
  {
   "cell_type": "markdown",
   "id": "bb14b12e",
   "metadata": {},
   "source": [
    "### Hyperparameter Tuning - Choosing best depth "
   ]
  },
  {
   "cell_type": "code",
   "execution_count": 34,
   "id": "bf08e8d1",
   "metadata": {},
   "outputs": [],
   "source": [
    "depth = np.arange(1,10)\n",
    "mae = []\n",
    "\n",
    "for k in depth:\n",
    "    model = DecisionTreeRegressor(max_depth = k, min_samples_leaf = 5)\n",
    "    model.fit(xtrain,ytrain)\n",
    "    ypred = model.predict(xvalid)\n",
    "    mae.append(np.mean(np.abs(yvalid - ypred)))"
   ]
  },
  {
   "cell_type": "code",
   "execution_count": 35,
   "id": "ba6b38cf",
   "metadata": {},
   "outputs": [
    {
     "data": {
      "image/png": "[encoded data removed]",
      "text/plain": [
       "<Figure size 432x288 with 1 Axes>"
      ]
     },
     "metadata": {},
     "output_type": "display_data"
    }
   ],
   "source": [
    "plt.plot(depth, np.array(mae))\n",
    "plt.show()"
   ]
  },
  {
   "cell_type": "code",
   "execution_count": 17,
   "id": "0478f1fd",
   "metadata": {},
   "outputs": [],
   "source": [
    "depth = 1"
   ]
  },
  {
   "cell_type": "markdown",
   "id": "7f20bba8",
   "metadata": {},
   "source": [
    "### Final Testing"
   ]
  },
  {
   "cell_type": "code",
   "execution_count": 48,
   "id": "d2a6c4f0",
   "metadata": {},
   "outputs": [
    {
     "data": {
      "text/plain": [
       "DecisionTreeRegressor(max_depth=1, min_samples_leaf=5)"
      ]
     },
     "execution_count": 48,
     "metadata": {},
     "output_type": "execute_result"
    }
   ],
   "source": [
    "# fit a DT model of depth 1 on the training data and test its performance on the test data by calculating the MAE \n",
    "\n",
    "model = DecisionTreeRegressor(max_depth = 1, min_samples_leaf = 5)\n",
    "model.fit(xtest,ytest)"
   ]
  },
  {
   "cell_type": "code",
   "execution_count": 49,
   "id": "e2077299",
   "metadata": {},
   "outputs": [],
   "source": [
    "ypred = model.predict(xtest)"
   ]
  },
  {
   "cell_type": "code",
   "execution_count": 50,
   "id": "b8fe8553",
   "metadata": {},
   "outputs": [
    {
     "data": {
      "text/plain": [
       "2.7752188608045634"
      ]
     },
     "execution_count": 50,
     "metadata": {},
     "output_type": "execute_result"
    }
   ],
   "source": [
    "MAE = np.mean(np.abs(ytest - ypred))\n",
    "MAE"
   ]
  },
  {
   "cell_type": "markdown",
   "id": "0acde00b",
   "metadata": {},
   "source": [
    "The MAE of test data is more than the training data"
   ]
  },
  {
   "cell_type": "markdown",
   "id": "d55ff3cd",
   "metadata": {},
   "source": [
    "----------------------------------------------------------------------------------------------------------------------------"
   ]
  },
  {
   "cell_type": "markdown",
   "id": "05e9398b",
   "metadata": {},
   "source": [
    "## Linear Regression"
   ]
  },
  {
   "cell_type": "code",
   "execution_count": 21,
   "id": "9aeb0b91",
   "metadata": {},
   "outputs": [],
   "source": [
    "from sklearn.linear_model import LinearRegression"
   ]
  },
  {
   "cell_type": "code",
   "execution_count": 22,
   "id": "c4318353",
   "metadata": {},
   "outputs": [
    {
     "name": "stdout",
     "output_type": "stream",
     "text": [
      "0.999934173316159\n",
      "0.9994270061664696\n"
     ]
    }
   ],
   "source": [
    "model = LinearRegression()\n",
    "model.fit(xtrain, ytrain)\n",
    "y_pred = model.predict(xtest)\n",
    "print(model.score(xtrain, ytrain))\n",
    "print(model.score(xtest, ytest))"
   ]
  },
  {
   "cell_type": "markdown",
   "id": "d15a40c7",
   "metadata": {},
   "source": [
    "The percentage between training and testing data is pretty much close, meaning that the accuracy of the model is relatively good"
   ]
  }
 ],
 "metadata": {
  "kernelspec": {
   "display_name": "Python 3 (ipykernel)",
   "language": "python",
   "name": "python3"
  },
  "language_info": {
   "codemirror_mode": {
    "name": "ipython",
    "version": 3
   },
   "file_extension": ".py",
   "mimetype": "text/x-python",
   "name": "python",
   "nbconvert_exporter": "python",
   "pygments_lexer": "ipython3",
   "version": "3.9.12"
  }
 },
 "nbformat": 4,
 "nbformat_minor": 5
}
